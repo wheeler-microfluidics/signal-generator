{
 "metadata": {
  "name": "",
  "signature": "sha256:5b5abb09b97a5ce69d1da39c1760b73dfc31555cbb30cbd0512ddad6106cdf3f"
 },
 "nbformat": 3,
 "nbformat_minor": 0,
 "worksheets": [
  {
   "cells": [
    {
     "cell_type": "code",
     "collapsed": false,
     "input": [
      "from IPython.html.widgets import interactive, DropdownWidget\n",
      "\n",
      "from nanopb_helpers import dump_message\n",
      "from serial import Serial\n",
      "from serial_device import get_serial_ports\n",
      "import signal_generator as device\n",
      "\n",
      "\n",
      "def dump_status():\n",
      "    print dump_message(proxy.config)\n",
      "    print ''\n",
      "    print dump_message(proxy.state)"
     ],
     "language": "python",
     "metadata": {},
     "outputs": [],
     "prompt_number": 1
    },
    {
     "cell_type": "markdown",
     "metadata": {},
     "source": [
      "--------------------------------------------------"
     ]
    },
    {
     "cell_type": "heading",
     "level": 2,
     "metadata": {},
     "source": [
      "Select device serial port"
     ]
    },
    {
     "cell_type": "code",
     "collapsed": false,
     "input": [
      "serial_port = DropdownWidget(values=list(get_serial_ports()),\n",
      "                             description='Device serial port:')\n",
      "serial_port"
     ],
     "language": "python",
     "metadata": {},
     "outputs": [],
     "prompt_number": 2
    },
    {
     "cell_type": "code",
     "collapsed": false,
     "input": [
      "serial_device = Serial(serial_port.value, baudrate=115200)\n",
      "proxy = device.Proxy(serial_device)"
     ],
     "language": "python",
     "metadata": {},
     "outputs": [],
     "prompt_number": 3
    },
    {
     "cell_type": "heading",
     "level": 2,
     "metadata": {},
     "source": [
      "Dump initial status"
     ]
    },
    {
     "cell_type": "code",
     "collapsed": false,
     "input": [
      "dump_status()"
     ],
     "language": "python",
     "metadata": {},
     "outputs": [
      {
       "output_type": "stream",
       "stream": "stdout",
       "text": [
        "          ad5206_ss_pin: 3\n",
        "            spi_sck_pin: 5\n",
        " max_waveform_frequency: 10000\n",
        "                    pot: [170, 19, 39, 169, 163, 117]\n",
        "   max_waveform_voltage: 7\n",
        "              baud_rate: 115200\n",
        "           spi_mosi_pin: 6\n",
        "         ltc6903_ss_pin: 2\n",
        " min_waveform_frequency: 100\n",
        "          serial_number: 0\n",
        "            i2c_address: 0\n",
        "hf_amplitude_correction: 1.24300003052\n",
        "         freq_range_pin: 4\n",
        "\n",
        "frequency: 10000.0\n",
        "  voltage: 2.04999995232\n"
       ]
      }
     ],
     "prompt_number": 5
    },
    {
     "cell_type": "heading",
     "level": 2,
     "metadata": {},
     "source": [
      "Reset to default device configuration"
     ]
    },
    {
     "cell_type": "code",
     "collapsed": false,
     "input": [
      "proxy.reset_config()\n",
      "proxy.reset_pots()\n",
      "proxy.reset_state()\n",
      "dump_status()"
     ],
     "language": "python",
     "metadata": {},
     "outputs": [
      {
       "output_type": "stream",
       "stream": "stdout",
       "text": [
        "          ad5206_ss_pin: 3\n",
        "            spi_sck_pin: 5\n",
        " max_waveform_frequency: 10000\n",
        "                    pot: [128, 128, 128, 128, 128, 128]\n",
        "   max_waveform_voltage: 7\n",
        "              baud_rate: 115200\n",
        "           spi_mosi_pin: 6\n",
        "         ltc6903_ss_pin: 2\n",
        " min_waveform_frequency: 100\n",
        "          serial_number: 0\n",
        "            i2c_address: 0\n",
        "hf_amplitude_correction: 1.19\n",
        "         freq_range_pin: 4\n",
        "\n",
        "frequency: 1000\n",
        "  voltage: 0\n"
       ]
      }
     ],
     "prompt_number": 6
    },
    {
     "cell_type": "heading",
     "level": 2,
     "metadata": {},
     "source": [
      "Adjust overall gain correction"
     ]
    },
    {
     "cell_type": "code",
     "collapsed": false,
     "input": [
      "def adjust_gain_potentiometer(value=128):\n",
      "    proxy.set_pot(3, value)\n",
      "    \n",
      "proxy.update_state(voltage=1., frequency=1e3)\n",
      "interactive(adjust_gain_potentiometer, value=(1, 255))"
     ],
     "language": "python",
     "metadata": {},
     "outputs": [],
     "prompt_number": 7
    },
    {
     "cell_type": "heading",
     "level": 2,
     "metadata": {},
     "source": [
      "Adjust high-frequency gain correction"
     ]
    },
    {
     "cell_type": "code",
     "collapsed": false,
     "input": [
      "def adjust_hf_amplitude_correction(value=1.19):\n",
      "    proxy.update_config(hf_amplitude_correction=value)\n",
      "    proxy.update_state(voltage=1., frequency=10e3)\n",
      "    \n",
      "\n",
      "interactive(adjust_hf_amplitude_correction, value=(1.1, 1.3, 0.001))"
     ],
     "language": "python",
     "metadata": {},
     "outputs": [],
     "prompt_number": 8
    },
    {
     "cell_type": "heading",
     "level": 2,
     "metadata": {},
     "source": [
      "Test configuration"
     ]
    },
    {
     "cell_type": "code",
     "collapsed": false,
     "input": [
      "def test_device(voltage=1, frequency=1e3):\n",
      "    proxy.update_state(voltage=voltage, frequency=frequency)\n",
      "    \n",
      "\n",
      "interactive(test_device,\n",
      "            voltage=(0, proxy.config.max_waveform_voltage, 0.05),\n",
      "            frequency=(proxy.config.min_waveform_frequency,\n",
      "                       proxy.config.max_waveform_frequency, 1))"
     ],
     "language": "python",
     "metadata": {},
     "outputs": [],
     "prompt_number": 11
    },
    {
     "cell_type": "heading",
     "level": 2,
     "metadata": {},
     "source": [
      "Save configuration to persistent device memory"
     ]
    },
    {
     "cell_type": "code",
     "collapsed": false,
     "input": [
      "proxy.save_config()"
     ],
     "language": "python",
     "metadata": {},
     "outputs": [],
     "prompt_number": 10
    }
   ],
   "metadata": {}
  }
 ]
}